{
 "cells": [
  {
   "cell_type": "code",
   "execution_count": null,
   "id": "00b41dc4",
   "metadata": {},
   "outputs": [],
   "source": [
    "def plus(a,b):\n",
    "    return int(a)+int(b)\n",
    "\n",
    "def multiply(a,b):\n",
    "    print(\"곱합니다~~\")\n",
    "    return int(a)*int(b)\n"
   ]
  }
 ],
 "metadata": {
  "kernelspec": {
   "display_name": "base",
   "language": "python",
   "name": "python3"
  },
  "language_info": {
   "codemirror_mode": {
    "name": "ipython",
    "version": 3
   },
   "file_extension": ".py",
   "mimetype": "text/x-python",
   "name": "python",
   "nbconvert_exporter": "python",
   "pygments_lexer": "ipython3",
   "version": "3.13.5"
  }
 },
 "nbformat": 4,
 "nbformat_minor": 5
}
